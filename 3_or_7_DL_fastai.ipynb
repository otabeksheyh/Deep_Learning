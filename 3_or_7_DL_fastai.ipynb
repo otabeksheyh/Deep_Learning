{
  "nbformat": 4,
  "nbformat_minor": 0,
  "metadata": {
    "colab": {
      "private_outputs": true,
      "provenance": [],
      "name": "3-or-7-DL-fastai.ipynb",
      "authorship_tag": "ABX9TyPW7j2viXtHO8Ld19Hqkycf",
      "include_colab_link": true
    },
    "kernelspec": {
      "name": "python3",
      "display_name": "Python 3"
    },
    "language_info": {
      "name": "python"
    }
  },
  "cells": [
    {
      "cell_type": "markdown",
      "metadata": {
        "id": "view-in-github",
        "colab_type": "text"
      },
      "source": [
        "<a href=\"https://colab.research.google.com/github/otabeksheyh/deep_learning/blob/main/3_or_7_DL_fastai.ipynb\" target=\"_parent\"><img src=\"https://colab.research.google.com/assets/colab-badge.svg\" alt=\"Open In Colab\"/></a>"
      ]
    },
    {
      "cell_type": "code",
      "execution_count": null,
      "metadata": {
        "id": "vhn5ABrF50LN",
        "collapsed": true
      },
      "outputs": [],
      "source": [
        "#!pip install fastai==2.5.3\n",
        "\n"
      ]
    },
    {
      "cell_type": "code",
      "source": [
        "import torch\n",
        "import fastai\n",
        "\n",
        "# versiyalarni tekshirish\n",
        "print(torch.__version__)\n",
        "print(fastai.__version__)"
      ],
      "metadata": {
        "id": "Dswvnjbx6ELC"
      },
      "execution_count": null,
      "outputs": []
    },
    {
      "cell_type": "code",
      "source": [
        "from fastai.vision.all import*\n",
        " #path\n",
        "path = untar_data(URLs.MNIST_SAMPLE)\n",
        "#path.ls()\n",
        "#(path/'train'/'3').ls()\n",
        "threes = (path/'valid'/'3').ls().sorted()\n",
        "sevens = (path/'valid'/'7').ls().sorted()"
      ],
      "metadata": {
        "id": "D0AZe8cb6mp0"
      },
      "execution_count": null,
      "outputs": []
    },
    {
      "cell_type": "code",
      "source": [
        "img3_sample = threes[1]\n",
        "img3_sample"
      ],
      "metadata": {
        "id": "xixx5EVY8F-4"
      },
      "execution_count": null,
      "outputs": []
    },
    {
      "cell_type": "code",
      "source": [
        "img3 = Image.open(img3_sample)\n",
        "img3"
      ],
      "metadata": {
        "id": "xnUz_INb91dT"
      },
      "execution_count": null,
      "outputs": []
    },
    {
      "cell_type": "code",
      "source": [
        "img7_sample = sevens[2]\n",
        "img7 = Image.open(img7_sample)\n",
        "img7"
      ],
      "metadata": {
        "id": "mc_64-W4-UC4"
      },
      "execution_count": null,
      "outputs": []
    },
    {
      "cell_type": "code",
      "source": [
        "\n",
        "np.array(img3)[4:10, 4:10]"
      ],
      "metadata": {
        "id": "NFQrVRaW-pwL"
      },
      "execution_count": null,
      "outputs": []
    },
    {
      "cell_type": "code",
      "source": [
        "tensor(img3)[4:10, 4:10]"
      ],
      "metadata": {
        "id": "pJXu2hMi_N3B"
      },
      "execution_count": null,
      "outputs": []
    },
    {
      "cell_type": "code",
      "source": [
        "import pandas as pd\n",
        "img3_t = tensor(img3)\n",
        "df = pd.DataFrame(img3_t[4:22, 4:22])# ustun va qatorlarni ajratib oldik\n",
        "#pandasni qulay tarafi : har bir dataframeni ortidagi bakgraundini ranggini ozgartira olamiz\n",
        "df.style.set_properties(**{'font-size':'6pt'}).background_gradient('Greys')\n"
      ],
      "metadata": {
        "id": "BnmiexRP_YrD"
      },
      "execution_count": null,
      "outputs": []
    },
    {
      "cell_type": "code",
      "source": [
        "#ML va DL dan foydalamasdan 3 va 7 ni aniqlaydigan datsur tuib koramiz \n",
        "\n",
        "three_tensors = [tensor(Image.open(i)) for i in threes]\n",
        "seven_tensors = [tensor(Image.open(i)) for i in sevens]\n",
        "len(seven_tensors), len(three_tensors)"
      ],
      "metadata": {
        "id": "WeBxT1lyBlwx"
      },
      "execution_count": null,
      "outputs": []
    },
    {
      "cell_type": "code",
      "source": [
        "show_image(three_tensors[2])"
      ],
      "metadata": {
        "id": "pXR_cIIWDsDx"
      },
      "execution_count": null,
      "outputs": []
    },
    {
      "cell_type": "code",
      "source": [
        "#ideal 3 va 7 ni topish uchun vektorlashgan hisoblashda aniqlaymiz. ustma ust yani -->( stacking )\n",
        "# odatda kompyuter vision mummolarda 0 dan 1 gacha bolgan oraliqqa keltish talab qilinadi\n",
        "#tensorlar qiymatini float() ga ozgartirib /255 ga bolsak o va 1 oraligiga tushib qoladi\n",
        "\n",
        "stacked_threes = torch.stack(three_tensors).float()/255\n",
        "stacked_sevens = torch.stack(seven_tensors).float()/255\n",
        "stacked_sevens.shape\n"
      ],
      "metadata": {
        "id": "31bzIZPREAU0"
      },
      "execution_count": null,
      "outputs": []
    },
    {
      "cell_type": "code",
      "source": [
        "mean3 = stacked_threes.mean(0)\n",
        "show_image(mean3)"
      ],
      "metadata": {
        "id": "icDEGg3vGYoG"
      },
      "execution_count": null,
      "outputs": []
    },
    {
      "cell_type": "code",
      "source": [
        "mean7 = stacked_sevens.mean(0)\n",
        "show_image(mean7)"
      ],
      "metadata": {
        "id": "3ooa9sZzHmNQ"
      },
      "execution_count": null,
      "outputs": []
    },
    {
      "cell_type": "code",
      "source": [
        "# xatolik olchash: MAE yoki L1 norm\n",
        "#xatolik olchash: RMSE yoki L2 norm\n",
        "\n",
        "s_3  = stacked_threes[1]\n",
        "show_image(s_3)"
      ],
      "metadata": {
        "id": "lU18dLrtIEDL"
      },
      "execution_count": null,
      "outputs": []
    },
    {
      "cell_type": "code",
      "source": [
        "# MAE\n",
        "mae = (s_3-mean3).abs().mean()\n",
        "\n",
        "#RMSE\n",
        "rmse = ((s_3-mean3)**2).mean().sqrt()\n",
        "mae, rmse"
      ],
      "metadata": {
        "id": "mvTOXhavJFQG"
      },
      "execution_count": null,
      "outputs": []
    },
    {
      "cell_type": "markdown",
      "source": [
        "3 ni 7 bn solishtirib koramiz\n"
      ],
      "metadata": {
        "id": "s0vJMPmlJ76z"
      }
    },
    {
      "cell_type": "code",
      "source": [
        "# MAE\n",
        "mae = (s_3-mean7).abs().mean()\n",
        "\n",
        "#RMSE\n",
        "rmse = ((s_3-mean7)**2).mean().sqrt()\n",
        "mae, rmse"
      ],
      "metadata": {
        "id": "rc-ZYxj7JlhL"
      },
      "execution_count": null,
      "outputs": []
    },
    {
      "cell_type": "markdown",
      "source": [
        "modelni aniqligini **broadcasting** orqali aniqlash"
      ],
      "metadata": {
        "id": "u4X8-wqNGw9v"
      }
    },
    {
      "cell_type": "code",
      "source": [
        "valid_3_tens = torch.stack([tensor(Image.open(i))for i in (path/'valid'/'3').ls()]) #ls() orqali listga aylantirib olamiz\n",
        "valid_3_tens = valid_3_tens.float()/225 # 0 va 1 oraligiga tushirib olamiz\n",
        "\n",
        "\n",
        "valid_7_tens = torch.stack([tensor(Image.open(i))for i in (path/'valid'/'7').ls()]) #ls() orqali listga aylantirib olamiz\n",
        "valid_7_tens = valid_7_tens.float()/225 # 0 va 1 oraligiga tushirib olamiz\n",
        "\n",
        "\n",
        "valid_3_tens.shape, valid_7_tens.shape"
      ],
      "metadata": {
        "id": "LXCxzurLKEmP"
      },
      "execution_count": null,
      "outputs": []
    },
    {
      "cell_type": "markdown",
      "source": [
        "**MAE** ni hisoblashni funksiyaga aylantiramiz"
      ],
      "metadata": {
        "id": "8_uApOmqIpSS"
      }
    },
    {
      "cell_type": "code",
      "source": [
        "def mae(a,b):\n",
        "  return(a-b).abs().mean((-1, -2)) # -1,-2 bular axis yani o'qlar, buni qoyishdan sabab koplab rasmlar uchun ishlatiladi, \n",
        "\n",
        "#tekshirish\n",
        "mae(s_3, mean3)\n",
        "\n",
        "valid_3_errors = mae(valid_3_tens, mean3)\n",
        "valid_7_errors = mae(valid_7_tens, mean7)\n",
        "\n",
        "valid_3_errors, valid_3_errors.shape"
      ],
      "metadata": {
        "id": "ix7TxmTNILyt"
      },
      "execution_count": null,
      "outputs": []
    },
    {
      "cell_type": "markdown",
      "source": [
        "**Broadcasting**"
      ],
      "metadata": {
        "id": "6-fqaAvCdJJ3"
      }
    },
    {
      "cell_type": "code",
      "source": [
        "def is_3(x):\n",
        "  return mae(x, mean3)<mae(x, mean7)\n",
        "\n",
        "def is_7(x):\n",
        "  return mae(x, mean7)<mae(x, mean3)\n",
        "\n",
        "is_3(s_3), is_3(s_3).float()"
      ],
      "metadata": {
        "id": "pNw5DVHMdtvD"
      },
      "execution_count": null,
      "outputs": []
    },
    {
      "cell_type": "code",
      "source": [
        "accuracy_3s = is_3(valid_3_tens).float().mean()\n",
        "accuracy_7s = is_7(valid_7_tens).float().mean()\n",
        "\n",
        "accuracy_3s, accuracy_7s, (accuracy_3s+accuracy_7s)/2"
      ],
      "metadata": {
        "id": "_gcXY7wXekUB"
      },
      "execution_count": null,
      "outputs": []
    },
    {
      "cell_type": "code",
      "source": [],
      "metadata": {
        "id": "rsBvvzm0_T7I"
      },
      "execution_count": null,
      "outputs": []
    }
  ]
}