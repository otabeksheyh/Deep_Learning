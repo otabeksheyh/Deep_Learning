{
 "cells": [
  {
   "cell_type": "code",
   "execution_count": 15,
   "id": "7754d717",
   "metadata": {},
   "outputs": [
    {
     "name": "stdout",
     "output_type": "stream",
     "text": [
      "Requirement already satisfied: torch in ./opt/anaconda3/lib/python3.9/site-packages (1.13.1)\r\n",
      "Requirement already satisfied: typing-extensions in ./opt/anaconda3/lib/python3.9/site-packages (from torch) (3.10.0.2)\r\n"
     ]
    }
   ],
   "source": [
    "!pip install torch\n",
    "import torch"
   ]
  },
  {
   "cell_type": "code",
   "execution_count": 18,
   "id": "529c6049",
   "metadata": {},
   "outputs": [
    {
     "name": "stdout",
     "output_type": "stream",
     "text": [
      "Requirement already satisfied: fastai in ./opt/anaconda3/lib/python3.9/site-packages (2.7.10)\n",
      "Requirement already satisfied: fastdownload<2,>=0.0.5 in ./opt/anaconda3/lib/python3.9/site-packages (from fastai) (0.0.7)\n",
      "Requirement already satisfied: pillow>6.0.0 in ./opt/anaconda3/lib/python3.9/site-packages (from fastai) (8.4.0)\n",
      "Requirement already satisfied: scipy in ./opt/anaconda3/lib/python3.9/site-packages (from fastai) (1.7.1)\n",
      "Requirement already satisfied: torch<1.14,>=1.7 in ./opt/anaconda3/lib/python3.9/site-packages (from fastai) (1.13.1)\n",
      "Requirement already satisfied: fastcore<1.6,>=1.4.5 in ./opt/anaconda3/lib/python3.9/site-packages (from fastai) (1.5.28)\n",
      "Requirement already satisfied: scikit-learn in ./opt/anaconda3/lib/python3.9/site-packages (from fastai) (0.24.2)\n",
      "Requirement already satisfied: pandas in ./opt/anaconda3/lib/python3.9/site-packages (from fastai) (1.3.4)\n",
      "Requirement already satisfied: spacy<4 in ./opt/anaconda3/lib/python3.9/site-packages (from fastai) (3.5.0)\n",
      "Requirement already satisfied: matplotlib in ./opt/anaconda3/lib/python3.9/site-packages (from fastai) (3.4.3)\n",
      "Requirement already satisfied: packaging in ./opt/anaconda3/lib/python3.9/site-packages (from fastai) (21.0)\n",
      "Requirement already satisfied: pip in ./opt/anaconda3/lib/python3.9/site-packages (from fastai) (21.2.4)\n",
      "Requirement already satisfied: torchvision>=0.8.2 in ./opt/anaconda3/lib/python3.9/site-packages (from fastai) (0.14.1)\n",
      "Requirement already satisfied: requests in ./opt/anaconda3/lib/python3.9/site-packages (from fastai) (2.26.0)\n",
      "Requirement already satisfied: pyyaml in ./opt/anaconda3/lib/python3.9/site-packages (from fastai) (6.0)\n",
      "Requirement already satisfied: fastprogress>=0.2.4 in ./opt/anaconda3/lib/python3.9/site-packages (from fastai) (1.0.3)\n",
      "Requirement already satisfied: pathy>=0.10.0 in ./opt/anaconda3/lib/python3.9/site-packages (from spacy<4->fastai) (0.10.1)\n",
      "Requirement already satisfied: smart-open<7.0.0,>=5.2.1 in ./opt/anaconda3/lib/python3.9/site-packages (from spacy<4->fastai) (6.3.0)\n",
      "Requirement already satisfied: setuptools in ./opt/anaconda3/lib/python3.9/site-packages (from spacy<4->fastai) (58.0.4)\n",
      "Requirement already satisfied: numpy>=1.15.0 in ./opt/anaconda3/lib/python3.9/site-packages (from spacy<4->fastai) (1.20.3)\n",
      "Requirement already satisfied: langcodes<4.0.0,>=3.2.0 in ./opt/anaconda3/lib/python3.9/site-packages (from spacy<4->fastai) (3.3.0)\n",
      "Requirement already satisfied: thinc<8.2.0,>=8.1.0 in ./opt/anaconda3/lib/python3.9/site-packages (from spacy<4->fastai) (8.1.7)\n",
      "Requirement already satisfied: spacy-loggers<2.0.0,>=1.0.0 in ./opt/anaconda3/lib/python3.9/site-packages (from spacy<4->fastai) (1.0.4)\n",
      "Requirement already satisfied: murmurhash<1.1.0,>=0.28.0 in ./opt/anaconda3/lib/python3.9/site-packages (from spacy<4->fastai) (1.0.9)\n",
      "Requirement already satisfied: cymem<2.1.0,>=2.0.2 in ./opt/anaconda3/lib/python3.9/site-packages (from spacy<4->fastai) (2.0.7)\n",
      "Requirement already satisfied: pydantic!=1.8,!=1.8.1,<1.11.0,>=1.7.4 in ./opt/anaconda3/lib/python3.9/site-packages (from spacy<4->fastai) (1.10.4)\n",
      "Requirement already satisfied: catalogue<2.1.0,>=2.0.6 in ./opt/anaconda3/lib/python3.9/site-packages (from spacy<4->fastai) (2.0.8)\n",
      "Requirement already satisfied: typer<0.8.0,>=0.3.0 in ./opt/anaconda3/lib/python3.9/site-packages (from spacy<4->fastai) (0.7.0)\n",
      "Requirement already satisfied: jinja2 in ./opt/anaconda3/lib/python3.9/site-packages (from spacy<4->fastai) (2.11.3)\n",
      "Requirement already satisfied: spacy-legacy<3.1.0,>=3.0.11 in ./opt/anaconda3/lib/python3.9/site-packages (from spacy<4->fastai) (3.0.12)\n",
      "Requirement already satisfied: preshed<3.1.0,>=3.0.2 in ./opt/anaconda3/lib/python3.9/site-packages (from spacy<4->fastai) (3.0.8)\n",
      "Requirement already satisfied: wasabi<1.2.0,>=0.9.1 in ./opt/anaconda3/lib/python3.9/site-packages (from spacy<4->fastai) (1.1.1)\n",
      "Requirement already satisfied: srsly<3.0.0,>=2.4.3 in ./opt/anaconda3/lib/python3.9/site-packages (from spacy<4->fastai) (2.4.5)\n",
      "Requirement already satisfied: tqdm<5.0.0,>=4.38.0 in ./opt/anaconda3/lib/python3.9/site-packages (from spacy<4->fastai) (4.62.3)\n",
      "Requirement already satisfied: pyparsing>=2.0.2 in ./opt/anaconda3/lib/python3.9/site-packages (from packaging->fastai) (3.0.4)\n",
      "Requirement already satisfied: typing-extensions>=4.2.0 in ./opt/anaconda3/lib/python3.9/site-packages (from pydantic!=1.8,!=1.8.1,<1.11.0,>=1.7.4->spacy<4->fastai) (4.4.0)\n",
      "Requirement already satisfied: idna<4,>=2.5 in ./opt/anaconda3/lib/python3.9/site-packages (from requests->fastai) (3.2)\n",
      "Requirement already satisfied: certifi>=2017.4.17 in ./opt/anaconda3/lib/python3.9/site-packages (from requests->fastai) (2021.10.8)\n",
      "Requirement already satisfied: charset-normalizer~=2.0.0 in ./opt/anaconda3/lib/python3.9/site-packages (from requests->fastai) (2.0.4)\n",
      "Requirement already satisfied: urllib3<1.27,>=1.21.1 in ./opt/anaconda3/lib/python3.9/site-packages (from requests->fastai) (1.26.7)\n",
      "Requirement already satisfied: confection<1.0.0,>=0.0.1 in ./opt/anaconda3/lib/python3.9/site-packages (from thinc<8.2.0,>=8.1.0->spacy<4->fastai) (0.0.4)\n",
      "Requirement already satisfied: blis<0.8.0,>=0.7.8 in ./opt/anaconda3/lib/python3.9/site-packages (from thinc<8.2.0,>=8.1.0->spacy<4->fastai) (0.7.9)\n",
      "Requirement already satisfied: click<9.0.0,>=7.1.1 in ./opt/anaconda3/lib/python3.9/site-packages (from typer<0.8.0,>=0.3.0->spacy<4->fastai) (8.0.3)\n",
      "Requirement already satisfied: MarkupSafe>=0.23 in ./opt/anaconda3/lib/python3.9/site-packages (from jinja2->spacy<4->fastai) (1.1.1)\n",
      "Requirement already satisfied: kiwisolver>=1.0.1 in ./opt/anaconda3/lib/python3.9/site-packages (from matplotlib->fastai) (1.3.1)\n",
      "Requirement already satisfied: python-dateutil>=2.7 in ./opt/anaconda3/lib/python3.9/site-packages (from matplotlib->fastai) (2.8.2)\n",
      "Requirement already satisfied: cycler>=0.10 in ./opt/anaconda3/lib/python3.9/site-packages (from matplotlib->fastai) (0.10.0)\n",
      "Requirement already satisfied: six in ./opt/anaconda3/lib/python3.9/site-packages (from cycler>=0.10->matplotlib->fastai) (1.16.0)\n",
      "Requirement already satisfied: pytz>=2017.3 in ./opt/anaconda3/lib/python3.9/site-packages (from pandas->fastai) (2021.3)\n",
      "Requirement already satisfied: threadpoolctl>=2.0.0 in ./opt/anaconda3/lib/python3.9/site-packages (from scikit-learn->fastai) (2.2.0)\n",
      "Requirement already satisfied: joblib>=0.11 in ./opt/anaconda3/lib/python3.9/site-packages (from scikit-learn->fastai) (1.1.0)\n"
     ]
    }
   ],
   "source": [
    "!pip install fastai\n",
    "import fastai"
   ]
  },
  {
   "cell_type": "code",
   "execution_count": 19,
   "id": "5ea3480a",
   "metadata": {},
   "outputs": [
    {
     "name": "stdout",
     "output_type": "stream",
     "text": [
      "1.13.1\n",
      "2.7.10\n"
     ]
    }
   ],
   "source": [
    "print(torch.__version__)\n",
    "print(fastai.__version__)"
   ]
  },
  {
   "cell_type": "code",
   "execution_count": null,
   "id": "65c07c43",
   "metadata": {},
   "outputs": [],
   "source": []
  },
  {
   "cell_type": "code",
   "execution_count": 21,
   "id": "fe5629c8",
   "metadata": {},
   "outputs": [
    {
     "name": "stdout",
     "output_type": "stream",
     "text": [
      "Cloning into 'OIDv4_ToolKit'...\n",
      "remote: Enumerating objects: 422, done.\u001b[K\n",
      "remote: Total 422 (delta 0), reused 0 (delta 0), pack-reused 422\u001b[K\n",
      "Receiving objects: 100% (422/422), 34.08 MiB | 13.84 MiB/s, done.\n",
      "Resolving deltas: 100% (146/146), done.\n"
     ]
    }
   ],
   "source": [
    "!git clone https://github.com/EscVM/OIDv4_ToolKit.git"
   ]
  },
  {
   "cell_type": "code",
   "execution_count": 22,
   "id": "6080de4d",
   "metadata": {},
   "outputs": [
    {
     "name": "stdout",
     "output_type": "stream",
     "text": [
      "Requirement already satisfied: pandas in /Users/hm/opt/anaconda3/lib/python3.9/site-packages (from -r requirements.txt (line 1)) (1.3.4)\n",
      "Requirement already satisfied: numpy in /Users/hm/opt/anaconda3/lib/python3.9/site-packages (from -r requirements.txt (line 2)) (1.20.3)\n",
      "Collecting awscli\n",
      "  Downloading awscli-1.27.64-py3-none-any.whl (4.0 MB)\n",
      "\u001b[K     |████████████████████████████████| 4.0 MB 8.5 MB/s eta 0:00:01\n",
      "\u001b[?25hRequirement already satisfied: urllib3 in /Users/hm/opt/anaconda3/lib/python3.9/site-packages (from -r requirements.txt (line 5)) (1.26.7)\n",
      "Requirement already satisfied: tqdm in /Users/hm/opt/anaconda3/lib/python3.9/site-packages (from -r requirements.txt (line 7)) (4.62.3)\n",
      "Collecting opencv-python\n",
      "  Downloading opencv_python-4.7.0.68-cp37-abi3-macosx_10_13_x86_64.whl (51.7 MB)\n",
      "\u001b[K     |████████████████████████████████| 51.7 MB 2.8 MB/s eta 0:00:011    |▎                               | 501 kB 23.8 MB/s eta 0:00:03███▌                          | 8.9 MB 23.8 MB/s eta 0:00:02\n",
      "\u001b[?25hRequirement already satisfied: python-dateutil>=2.7.3 in /Users/hm/opt/anaconda3/lib/python3.9/site-packages (from pandas->-r requirements.txt (line 1)) (2.8.2)\n",
      "Requirement already satisfied: pytz>=2017.3 in /Users/hm/opt/anaconda3/lib/python3.9/site-packages (from pandas->-r requirements.txt (line 1)) (2021.3)\n",
      "Collecting s3transfer<0.7.0,>=0.6.0\n",
      "  Downloading s3transfer-0.6.0-py3-none-any.whl (79 kB)\n",
      "\u001b[K     |████████████████████████████████| 79 kB 21.3 MB/s eta 0:00:01\n",
      "\u001b[?25hCollecting docutils<0.17,>=0.10\n",
      "  Downloading docutils-0.16-py2.py3-none-any.whl (548 kB)\n",
      "\u001b[K     |████████████████████████████████| 548 kB 41.2 MB/s eta 0:00:01\n",
      "\u001b[?25hCollecting rsa<4.8,>=3.1.2\n",
      "  Downloading rsa-4.7.2-py3-none-any.whl (34 kB)\n",
      "Collecting PyYAML<5.5,>=3.10\n",
      "  Downloading PyYAML-5.4.1-cp39-cp39-macosx_10_9_x86_64.whl (259 kB)\n",
      "\u001b[K     |████████████████████████████████| 259 kB 39.8 MB/s eta 0:00:01\n",
      "\u001b[?25hRequirement already satisfied: colorama<0.4.5,>=0.2.5 in /Users/hm/opt/anaconda3/lib/python3.9/site-packages (from awscli->-r requirements.txt (line 3)) (0.4.4)\n",
      "Collecting botocore==1.29.64\n",
      "  Downloading botocore-1.29.64-py3-none-any.whl (10.4 MB)\n",
      "\u001b[K     |████████████████████████████████| 10.4 MB 49.0 MB/s eta 0:00:01\n",
      "\u001b[?25hCollecting jmespath<2.0.0,>=0.7.1\n",
      "  Downloading jmespath-1.0.1-py3-none-any.whl (20 kB)\n",
      "Requirement already satisfied: six>=1.5 in /Users/hm/opt/anaconda3/lib/python3.9/site-packages (from python-dateutil>=2.7.3->pandas->-r requirements.txt (line 1)) (1.16.0)\n",
      "Collecting pyasn1>=0.1.3\n",
      "  Downloading pyasn1-0.4.8-py2.py3-none-any.whl (77 kB)\n",
      "\u001b[K     |████████████████████████████████| 77 kB 10.0 MB/s eta 0:00:01\n",
      "\u001b[?25hInstalling collected packages: jmespath, pyasn1, botocore, s3transfer, rsa, PyYAML, docutils, opencv-python, awscli\n",
      "  Attempting uninstall: PyYAML\n",
      "    Found existing installation: PyYAML 6.0\n",
      "    Uninstalling PyYAML-6.0:\n",
      "      Successfully uninstalled PyYAML-6.0\n",
      "  Attempting uninstall: docutils\n",
      "    Found existing installation: docutils 0.17.1\n",
      "    Uninstalling docutils-0.17.1:\n",
      "      Successfully uninstalled docutils-0.17.1\n",
      "\u001b[31mERROR: pip's dependency resolver does not currently take into account all the packages that are installed. This behaviour is the source of the following dependency conflicts.\n",
      "conda-repo-cli 1.0.4 requires pathlib, which is not installed.\u001b[0m\n",
      "Successfully installed PyYAML-5.4.1 awscli-1.27.64 botocore-1.29.64 docutils-0.16 jmespath-1.0.1 opencv-python-4.7.0.68 pyasn1-0.4.8 rsa-4.7.2 s3transfer-0.6.0\n"
     ]
    }
   ],
   "source": [
    "!cd OIDv4_ToolKit && pip install -r requirements.txt"
   ]
  },
  {
   "cell_type": "code",
   "execution_count": 23,
   "id": "0af5cb08",
   "metadata": {},
   "outputs": [
    {
     "name": "stdout",
     "output_type": "stream",
     "text": [
      "usage: main.py [-h] [--Dataset /path/to/OID/csv/] [-y]\n",
      "               [--classes list of classes [list of classes ...]]\n",
      "               [--type_csv 'train' or 'validation' or 'test' or 'all']\n",
      "               [--sub Subset of human verified images or machine generated h or m)]\n",
      "               [--image_IsOccluded 1 or 0] [--image_IsTruncated 1 or 0]\n",
      "               [--image_IsGroupOf 1 or 0] [--image_IsDepiction 1 or 0]\n",
      "               [--image_IsInside 1 or 0] [--multiclasses 0 (default or 1]\n",
      "               [--n_threads [default 20]] [--noLabels]\n",
      "               [--limit integer number]\n",
      "               <command> 'downloader', 'visualizer' or 'ill_downloader'.\n",
      "\n",
      "Open Image Dataset Downloader\n",
      "\n",
      "positional arguments:\n",
      "  <command> 'downloader', 'visualizer' or 'ill_downloader'.\n",
      "                        'downloader', 'visualizer' or 'ill_downloader'.\n",
      "\n",
      "optional arguments:\n",
      "  -h, --help            show this help message and exit\n",
      "  --Dataset /path/to/OID/csv/\n",
      "                        Directory of the OID dataset folder\n",
      "  -y, --yes             ans Yes to possible download of missing files\n",
      "  --classes list of classes [list of classes ...]\n",
      "                        Sequence of 'strings' of the wanted classes\n",
      "  --type_csv 'train' or 'validation' or 'test' or 'all'\n",
      "                        From what csv search the images\n",
      "  --sub Subset of human verified images or machine generated (h or m)\n",
      "                        Download from the human verified dataset or from the\n",
      "                        machine generated one.\n",
      "  --image_IsOccluded 1 or 0\n",
      "                        Optional characteristic of the images. Indicates that\n",
      "                        the object is occluded by another object in the image.\n",
      "  --image_IsTruncated 1 or 0\n",
      "                        Optional characteristic of the images. Indicates that\n",
      "                        the object extends beyond the boundary of the image.\n",
      "  --image_IsGroupOf 1 or 0\n",
      "                        Optional characteristic of the images. Indicates that\n",
      "                        the box spans a group of objects (min 5).\n",
      "  --image_IsDepiction 1 or 0\n",
      "                        Optional characteristic of the images. Indicates that\n",
      "                        the object is a depiction.\n",
      "  --image_IsInside 1 or 0\n",
      "                        Optional characteristic of the images. Indicates a\n",
      "                        picture taken from the inside of the object.\n",
      "  --multiclasses 0 (default) or 1\n",
      "                        Download different classes separately (0) or together\n",
      "                        (1)\n",
      "  --n_threads [default 20]\n",
      "                        Num of the threads to use\n",
      "  --noLabels            No labels creations\n",
      "  --limit integer number\n",
      "                        Optional limit on number of images to download\n"
     ]
    }
   ],
   "source": [
    "!cd OIDv4_ToolKit && python main.py -h"
   ]
  },
  {
   "cell_type": "code",
   "execution_count": 24,
   "id": "ca705f5e",
   "metadata": {},
   "outputs": [
    {
     "name": "stdout",
     "output_type": "stream",
     "text": [
      "\u001b[92m\r\n",
      "\t\t   ___   _____  ______            _    _    \r\n",
      "\t\t .'   `.|_   _||_   _ `.         | |  | |   \r\n",
      "\t\t/  .-.  \\ | |    | | `. \\ _   __ | |__| |_  \r\n",
      "\t\t| |   | | | |    | |  | |[ \\ [  ]|____   _| \r\n",
      "\t\t\\  `-'  /_| |_  _| |_.' / \\ \\/ /     _| |_  \r\n",
      "\t\t `.___.'|_____||______.'   \\__/     |_____|\r\n",
      "\t\u001b[0m\r\n",
      "\u001b[92m\r\n",
      "             _____                    _                 _             \r\n",
      "            (____ \\                  | |               | |            \r\n",
      "             _   \\ \\ ___  _ _ _ ____ | | ___   ____  _ | | ____  ____ \r\n",
      "            | |   | / _ \\| | | |  _ \\| |/ _ \\ / _  |/ || |/ _  )/ ___)\r\n",
      "            | |__/ / |_| | | | | | | | | |_| ( ( | ( (_| ( (/ /| |    \r\n",
      "            |_____/ \\___/ \\____|_| |_|_|\\___/ \\_||_|\\____|\\____)_|    \r\n",
      "                                                          \r\n",
      "        \u001b[0m\r\n",
      "Traceback (most recent call last):\r\n",
      "  File \"/Users/hm/OIDv4_ToolKit/main.py\", line 37, in <module>\r\n",
      "    bounding_boxes_images(args, DEFAULT_OID_DIR)\r\n",
      "  File \"/Users/hm/OIDv4_ToolKit/modules/bounding_boxes.py\", line 46, in bounding_boxes_images\r\n",
      "    mkdirs(dataset_dir, csv_dir, args.classes, args.type_csv)\r\n",
      "  File \"/Users/hm/OIDv4_ToolKit/modules/utils.py\", line 54, in mkdirs\r\n",
      "    os.makedirs(folder)\r\n",
      "  File \"/Users/hm/opt/anaconda3/lib/python3.9/os.py\", line 215, in makedirs\r\n",
      "    makedirs(head, exist_ok=exist_ok)\r\n",
      "  File \"/Users/hm/opt/anaconda3/lib/python3.9/os.py\", line 215, in makedirs\r\n",
      "    makedirs(head, exist_ok=exist_ok)\r\n",
      "  File \"/Users/hm/opt/anaconda3/lib/python3.9/os.py\", line 215, in makedirs\r\n",
      "    makedirs(head, exist_ok=exist_ok)\r\n",
      "  File \"/Users/hm/opt/anaconda3/lib/python3.9/os.py\", line 225, in makedirs\r\n",
      "    mkdir(name, mode)\r\n",
      "OSError: [Errno 30] Read-only file system: '/content'\r\n"
     ]
    }
   ],
   "source": [
    "!cd OIDv4_ToolKit && python3 main.py downloader --Dataset /content --classes Car Airplane Boat --type_csv train --limit 200"
   ]
  },
  {
   "cell_type": "code",
   "execution_count": null,
   "id": "3f3fb8c4",
   "metadata": {},
   "outputs": [],
   "source": []
  }
 ],
 "metadata": {
  "kernelspec": {
   "display_name": "Python 3 (ipykernel)",
   "language": "python",
   "name": "python3"
  },
  "language_info": {
   "codemirror_mode": {
    "name": "ipython",
    "version": 3
   },
   "file_extension": ".py",
   "mimetype": "text/x-python",
   "name": "python",
   "nbconvert_exporter": "python",
   "pygments_lexer": "ipython3",
   "version": "3.9.7"
  }
 },
 "nbformat": 4,
 "nbformat_minor": 5
}
